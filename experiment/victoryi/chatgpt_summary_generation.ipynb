{
 "cells": [
  {
   "cell_type": "markdown",
   "id": "a7e834f7",
   "metadata": {},
   "source": [
    "## ACOS quadruples"
   ]
  },
  {
   "cell_type": "markdown",
   "id": "52e8e700",
   "metadata": {},
   "source": [
    "1. -1,-1 means there’s no aspect\n",
    "2. category is SERVICE#GENERAL\n",
    "3. sentiment 0 is “negative”\n",
    "4. 5,6 means the words between index 5 (inclusive) to 6 (exclusive) in the review text split by space\n"
   ]
  },
  {
   "cell_type": "code",
   "execution_count": 20,
   "id": "31aefc77",
   "metadata": {},
   "outputs": [],
   "source": [
    "import os"
   ]
  },
  {
   "cell_type": "markdown",
   "id": "955ff5a2",
   "metadata": {},
   "source": [
    "## Reading from the dataset (Modified from Eric's code)"
   ]
  },
  {
   "cell_type": "code",
   "execution_count": 57,
   "id": "a5f359d2",
   "metadata": {},
   "outputs": [],
   "source": [
    "from typing import Optional\n",
    "from pathlib import Path\n",
    "\n",
    "acos_base_dir = (Path(__name__).parent.parent.parent / 'dataset/ACOS').resolve()\n",
    "\n",
    "laptop_acos_dir = acos_base_dir / 'Laptop-ACOS'\n",
    "restaurant_acos_dir = acos_base_dir / 'Restaurant-ACOS'\n",
    "\n",
    "laptop_acos_train_file = laptop_acos_dir / 'laptop_quad_train.tsv'\n",
    "laptop_acos_dev_file = laptop_acos_dir / 'laptop_quad_dev.tsv'\n",
    "\n",
    "restaurant_acos_train_file = restaurant_acos_dir / 'rest16_quad_test.tsv'\n",
    "restaurant_acos_dev_file = restaurant_acos_dir / 'rest16_quad_dev.tsv'"
   ]
  },
  {
   "cell_type": "code",
   "execution_count": 58,
   "id": "e51dca1c",
   "metadata": {},
   "outputs": [],
   "source": [
    "def get_words_from_indices_str(review, indices_str: str) -> Optional[str]:\n",
    "    if indices_str == '-1,-1':\n",
    "        return None\n",
    "    start_i, end_i = [int(s) for s in indices_str.split(',')]\n",
    "    return review[start_i: end_i]\n",
    "\n",
    "def get_sentiment(sentiment_t: str):\n",
    "    sentiment_i = int(sentiment_t)\n",
    "    return {0: 'negative', 1: 'neutral', 2: 'positive'}[sentiment_i]"
   ]
  },
  {
   "cell_type": "code",
   "execution_count": 74,
   "id": "d799f7ad",
   "metadata": {},
   "outputs": [],
   "source": [
    "# Lightly modified from Eric's code\n",
    "# Function to return the acos quadruples only in the top num_lines reviews provided in the dataset\n",
    "def read_acos(num_lines, filename):\n",
    "    lines_to_read = num_lines\n",
    "    acos = []\n",
    "    for line_i, line in enumerate(open(filename)):\n",
    "        line_items = line.split('\\t')\n",
    "        review = line_items[0].strip().split()\n",
    "        acos_quads = [item.strip().split() for item in line_items[1:]]\n",
    "        # print(' '.join(review))\n",
    "        # print(acos_quads)\n",
    "        for aspect_t, category_t, sentiment_t, opinion_t in acos_quads:\n",
    "            aspect = get_words_from_indices_str(review, aspect_t)\n",
    "            category = category_t\n",
    "            sentiment = get_sentiment(sentiment_t)\n",
    "            opinion = get_words_from_indices_str(review, opinion_t)\n",
    "            acos_str = f\"aspect: {aspect}, category: {category}, sentiment: {sentiment}, opinion: {opinion}\"\n",
    "            # print(acos_str)\n",
    "            acos.append(acos_str)\n",
    "        # print('=' * 80)\n",
    "        if line_i >= lines_to_read-1:\n",
    "            break\n",
    "    return acos"
   ]
  },
  {
   "cell_type": "markdown",
   "id": "cfbed0f8",
   "metadata": {},
   "source": [
    "## Using ChatGPT to generate short summaries using ACOS quadruples (Victor)"
   ]
  },
  {
   "cell_type": "code",
   "execution_count": 86,
   "id": "398298e2",
   "metadata": {},
   "outputs": [],
   "source": [
    "import openai\n",
    "import pandas as pd\n",
    "import numpy as np\n",
    "\n",
    "APIKEY = "
   ]
  },
  {
   "cell_type": "code",
   "execution_count": 61,
   "id": "1b74953d",
   "metadata": {},
   "outputs": [],
   "source": [
    "# Setting api_key for chatgpt \n",
    "openai.api_key = APIKEY"
   ]
  },
  {
   "cell_type": "code",
   "execution_count": 62,
   "id": "a132b4da",
   "metadata": {},
   "outputs": [],
   "source": [
    "# CAUTION: DO NOT RUN THIS FUNCTION WITHOUT CONSULTING THE TEAM, EACH TOKEN TO THE CHATGPT API COSTS MONEY\n",
    "# EACH FREE TRIAL GIVES US 18 DOLLARS OF CREDIT\n",
    "\n",
    "# Each functional call to the chatgpt api also takes several seconds, so expect it to take much longer than expected\n",
    "\n",
    "# function to generate a short summary + prompt engineering to get the best response\n",
    "# acos: List[str], the string in the acos format returned by Eric's code\n",
    "# example: aspect: None, category: RESTAURANT#GENERAL, sentiment: positive, opinion: None\n",
    "# returns a list of the summary generated from the acos quadruple. \n",
    "def acos_to_summary(acos):\n",
    "    prompt = \"Generate a summary for me using the following ACOS quadruple. This quadruple was extracted from a restaurant review which commented on a specific category of that restaurant. Please make the summary sound natural, in first person view. Only summarize based on non None fields. Reply only with the summary. Do not mention no opinion.\"\n",
    "    summaries = []\n",
    "    for quad in acos:\n",
    "        query = prompt + \" \" + quad\n",
    "        output = openai.ChatCompletion.create(\n",
    "            model='gpt-3.5-turbo',\n",
    "            # roles: system, user, assistant\n",
    "            # System: (BUGGED) provide overarching context to the system\n",
    "            messages=[{\"role\": \"user\", \"content\": query}]\n",
    "        )\n",
    "        summaries.append(output['choices'][0]['message']['content'])\n",
    "    return summaries"
   ]
  },
  {
   "cell_type": "code",
   "execution_count": 82,
   "id": "5c2b0026",
   "metadata": {},
   "outputs": [],
   "source": [
    "# obtain the top N acos quadruples in the dataset provided\n",
    "acos = read_acos(10, restaurant_acos_dev_file)\n",
    "summaries = acos_to_summary(acos)"
   ]
  },
  {
   "cell_type": "code",
   "execution_count": 84,
   "id": "b30c8d13",
   "metadata": {},
   "outputs": [],
   "source": [
    "# Trimming artifacts from the output\n",
    "for i in range(len(summaries)):\n",
    "    summaries[i] = summaries[i].replace('\\n', '')"
   ]
  },
  {
   "cell_type": "code",
   "execution_count": 88,
   "id": "02a37b20",
   "metadata": {},
   "outputs": [],
   "source": [
    "acos_summary = pd.DataFrame()\n",
    "acos_summary['ACOS'] = acos\n",
    "acos_summary['summary'] = summaries"
   ]
  },
  {
   "cell_type": "code",
   "execution_count": 90,
   "id": "95a7bfc2",
   "metadata": {},
   "outputs": [
    {
     "data": {
      "text/html": [
       "<div>\n",
       "<style scoped>\n",
       "    .dataframe tbody tr th:only-of-type {\n",
       "        vertical-align: middle;\n",
       "    }\n",
       "\n",
       "    .dataframe tbody tr th {\n",
       "        vertical-align: top;\n",
       "    }\n",
       "\n",
       "    .dataframe thead th {\n",
       "        text-align: right;\n",
       "    }\n",
       "</style>\n",
       "<table border=\"1\" class=\"dataframe\">\n",
       "  <thead>\n",
       "    <tr style=\"text-align: right;\">\n",
       "      <th></th>\n",
       "      <th>ACOS</th>\n",
       "      <th>summary</th>\n",
       "    </tr>\n",
       "  </thead>\n",
       "  <tbody>\n",
       "    <tr>\n",
       "      <th>0</th>\n",
       "      <td>aspect: None, category: RESTAURANT#GENERAL, se...</td>\n",
       "      <td>I recently visited a restaurant and had a grea...</td>\n",
       "    </tr>\n",
       "    <tr>\n",
       "      <th>1</th>\n",
       "      <td>aspect: ['sake', 'list'], category: DRINKS#STY...</td>\n",
       "      <td>I really enjoyed the sake list at this restaur...</td>\n",
       "    </tr>\n",
       "    <tr>\n",
       "      <th>2</th>\n",
       "      <td>aspect: None, category: SERVICE#GENERAL, senti...</td>\n",
       "      <td>The service at this restaurant was fantastic.</td>\n",
       "    </tr>\n",
       "    <tr>\n",
       "      <th>3</th>\n",
       "      <td>aspect: ['spicy', 'tuna', 'roll'], category: F...</td>\n",
       "      <td>I really appreciated the spicy tuna roll at th...</td>\n",
       "    </tr>\n",
       "    <tr>\n",
       "      <th>4</th>\n",
       "      <td>aspect: ['rock', 'shrimp', 'tempura'], categor...</td>\n",
       "      <td>The rock shrimp tempura at this restaurant is ...</td>\n",
       "    </tr>\n",
       "    <tr>\n",
       "      <th>5</th>\n",
       "      <td>aspect: ['pink', 'pony'], category: RESTAURANT...</td>\n",
       "      <td>I absolutely love the pink pony aspect of this...</td>\n",
       "    </tr>\n",
       "    <tr>\n",
       "      <th>6</th>\n",
       "      <td>aspect: ['place'], category: RESTAURANT#GENERA...</td>\n",
       "      <td>In my opinion, the place was the best part of ...</td>\n",
       "    </tr>\n",
       "    <tr>\n",
       "      <th>7</th>\n",
       "      <td>aspect: ['sea', 'urchin'], category: FOOD#QUAL...</td>\n",
       "      <td>The sea urchin at the restaurant was of high q...</td>\n",
       "    </tr>\n",
       "    <tr>\n",
       "      <th>8</th>\n",
       "      <td>aspect: ['prix', 'fixe', 'menu'], category: FO...</td>\n",
       "      <td>I highly recommend the prix fixe menu at this ...</td>\n",
       "    </tr>\n",
       "    <tr>\n",
       "      <th>9</th>\n",
       "      <td>aspect: ['prix', 'fixe', 'menu'], category: FO...</td>\n",
       "      <td>I think the prix fixe menu is worth trying at ...</td>\n",
       "    </tr>\n",
       "    <tr>\n",
       "      <th>10</th>\n",
       "      <td>aspect: ['prix', 'fixe', 'menu'], category: FO...</td>\n",
       "      <td>I think the prix fixe menu at this restaurant ...</td>\n",
       "    </tr>\n",
       "    <tr>\n",
       "      <th>11</th>\n",
       "      <td>aspect: ['food'], category: FOOD#QUALITY, sent...</td>\n",
       "      <td>The food at the restaurant was of good quality.</td>\n",
       "    </tr>\n",
       "    <tr>\n",
       "      <th>12</th>\n",
       "      <td>aspect: None, category: SERVICE#GENERAL, senti...</td>\n",
       "      <td>The service at the restaurant was not good, an...</td>\n",
       "    </tr>\n",
       "    <tr>\n",
       "      <th>13</th>\n",
       "      <td>aspect: ['food'], category: FOOD#QUALITY, sent...</td>\n",
       "      <td>\"I found the food quality to be disappointing,...</td>\n",
       "    </tr>\n",
       "    <tr>\n",
       "      <th>14</th>\n",
       "      <td>aspect: ['ambience'], category: AMBIENCE#GENER...</td>\n",
       "      <td>The ambience at this restaurant is pretty good.</td>\n",
       "    </tr>\n",
       "    <tr>\n",
       "      <th>15</th>\n",
       "      <td>aspect: ['ambience'], category: AMBIENCE#GENER...</td>\n",
       "      <td>I really enjoyed the ambience of the restauran...</td>\n",
       "    </tr>\n",
       "    <tr>\n",
       "      <th>16</th>\n",
       "      <td>aspect: None, category: RESTAURANT#MISCELLANEO...</td>\n",
       "      <td>I highly recommend this restaurant for its mis...</td>\n",
       "    </tr>\n",
       "  </tbody>\n",
       "</table>\n",
       "</div>"
      ],
      "text/plain": [
       "                                                 ACOS  \\\n",
       "0   aspect: None, category: RESTAURANT#GENERAL, se...   \n",
       "1   aspect: ['sake', 'list'], category: DRINKS#STY...   \n",
       "2   aspect: None, category: SERVICE#GENERAL, senti...   \n",
       "3   aspect: ['spicy', 'tuna', 'roll'], category: F...   \n",
       "4   aspect: ['rock', 'shrimp', 'tempura'], categor...   \n",
       "5   aspect: ['pink', 'pony'], category: RESTAURANT...   \n",
       "6   aspect: ['place'], category: RESTAURANT#GENERA...   \n",
       "7   aspect: ['sea', 'urchin'], category: FOOD#QUAL...   \n",
       "8   aspect: ['prix', 'fixe', 'menu'], category: FO...   \n",
       "9   aspect: ['prix', 'fixe', 'menu'], category: FO...   \n",
       "10  aspect: ['prix', 'fixe', 'menu'], category: FO...   \n",
       "11  aspect: ['food'], category: FOOD#QUALITY, sent...   \n",
       "12  aspect: None, category: SERVICE#GENERAL, senti...   \n",
       "13  aspect: ['food'], category: FOOD#QUALITY, sent...   \n",
       "14  aspect: ['ambience'], category: AMBIENCE#GENER...   \n",
       "15  aspect: ['ambience'], category: AMBIENCE#GENER...   \n",
       "16  aspect: None, category: RESTAURANT#MISCELLANEO...   \n",
       "\n",
       "                                              summary  \n",
       "0   I recently visited a restaurant and had a grea...  \n",
       "1   I really enjoyed the sake list at this restaur...  \n",
       "2       The service at this restaurant was fantastic.  \n",
       "3   I really appreciated the spicy tuna roll at th...  \n",
       "4   The rock shrimp tempura at this restaurant is ...  \n",
       "5   I absolutely love the pink pony aspect of this...  \n",
       "6   In my opinion, the place was the best part of ...  \n",
       "7   The sea urchin at the restaurant was of high q...  \n",
       "8   I highly recommend the prix fixe menu at this ...  \n",
       "9   I think the prix fixe menu is worth trying at ...  \n",
       "10  I think the prix fixe menu at this restaurant ...  \n",
       "11    The food at the restaurant was of good quality.  \n",
       "12  The service at the restaurant was not good, an...  \n",
       "13  \"I found the food quality to be disappointing,...  \n",
       "14    The ambience at this restaurant is pretty good.  \n",
       "15  I really enjoyed the ambience of the restauran...  \n",
       "16  I highly recommend this restaurant for its mis...  "
      ]
     },
     "execution_count": 90,
     "metadata": {},
     "output_type": "execute_result"
    }
   ],
   "source": [
    "acos_summary"
   ]
  }
 ],
 "metadata": {
  "kernelspec": {
   "display_name": "Python 3 (ipykernel)",
   "language": "python",
   "name": "python3"
  },
  "language_info": {
   "codemirror_mode": {
    "name": "ipython",
    "version": 3
   },
   "file_extension": ".py",
   "mimetype": "text/x-python",
   "name": "python",
   "nbconvert_exporter": "python",
   "pygments_lexer": "ipython3",
   "version": "3.8.16"
  }
 },
 "nbformat": 4,
 "nbformat_minor": 5
}
